{
 "cells": [
  {
   "cell_type": "code",
   "execution_count": 5,
   "id": "468b5f42",
   "metadata": {},
   "outputs": [],
   "source": [
    "import numpy as np\n",
    "import pandas as pd\n",
    "import matplotlib as mpl\n",
    "import tensorflow as tf\n",
    "from tensorflow import keras"
   ]
  },
  {
   "cell_type": "code",
   "execution_count": 2,
   "id": "4b544a6b",
   "metadata": {},
   "outputs": [],
   "source": [
    "%matplotlib inline\n",
    "import matplotlib.pyplot as plt"
   ]
  },
  {
   "cell_type": "code",
   "execution_count": 3,
   "id": "4b5b82d8",
   "metadata": {},
   "outputs": [],
   "source": [
    "digit_mnist=keras.datasets.mnist"
   ]
  },
  {
   "cell_type": "code",
   "execution_count": 4,
   "id": "9bf3d513",
   "metadata": {},
   "outputs": [],
   "source": [
    "digit_mnist=keras.datasets.mnist\n",
    "(x_train_full,y_train_full),(x_test,y_test)=digit_mnist.load_data()"
   ]
  },
  {
   "cell_type": "code",
   "execution_count": 6,
   "id": "48b8176b",
   "metadata": {},
   "outputs": [
    {
     "data": {
      "text/plain": [
       "<matplotlib.image.AxesImage at 0x2bc9b53e910>"
      ]
     },
     "execution_count": 6,
     "metadata": {},
     "output_type": "execute_result"
    },
    {
     "data": {
      "image/png": "[encoded data removed]",
      "text/plain": [
       "<Figure size 432x288 with 1 Axes>"
      ]
     },
     "metadata": {
      "needs_background": "light"
     },
     "output_type": "display_data"
    }
   ],
   "source": [
    "plt.imshow(x_train_full[0])"
   ]
  },
  {
   "cell_type": "code",
   "execution_count": 7,
   "id": "de61832d",
   "metadata": {},
   "outputs": [],
   "source": [
    "class_names=[\"0\",\"1\",\"2\",\"3\",\"4\",\"5\",\"6\",\"7\",\"8\",\"9\"]"
   ]
  },
  {
   "cell_type": "code",
   "execution_count": 8,
   "id": "3d81045e",
   "metadata": {},
   "outputs": [],
   "source": [
    "x_train_full=x_train_full.reshape((60000,28,28,1))\n",
    "x_test=x_test.reshape((10000,28,28,1))"
   ]
  },
  {
   "cell_type": "code",
   "execution_count": 10,
   "id": "f864165e",
   "metadata": {},
   "outputs": [],
   "source": [
    "x_train_n=x_train_full/255.\n",
    "x_test_n=x_test/255."
   ]
  },
  {
   "cell_type": "code",
   "execution_count": 11,
   "id": "29e532e6",
   "metadata": {},
   "outputs": [],
   "source": [
    "x_valid,x_train =x_train_n[:6000] , x_train_n[6000:]\n",
    "y_valid,y_train =y_train_full[:6000] , y_train_full[6000:]\n",
    "x_test = x_test_n"
   ]
  },
  {
   "cell_type": "code",
   "execution_count": 12,
   "id": "ce2e3fbc",
   "metadata": {},
   "outputs": [],
   "source": [
    "np.random.seed(42)\n",
    "tf.random.set_seed(42)"
   ]
  },
  {
   "cell_type": "code",
   "execution_count": 13,
   "id": "fdea54ec",
   "metadata": {},
   "outputs": [],
   "source": [
    "model=keras.models.Sequential()\n",
    "model.add(keras.layers.Conv2D(filters=32,kernel_size=(3,3),strides=1,padding=\"valid\",activation=\"relu\",input_shape=[28,28,1]))\n",
    "model.add(keras.layers.MaxPooling2D((2,2)))\n",
    "\n",
    "model.add(keras.layers.Flatten())\n",
    "model.add(keras.layers.Dense(200,activation=\"relu\"))\n",
    "model.add(keras.layers.Dense(100,activation=\"relu\"))\n",
    "model.add(keras.layers.Dense(10,activation=\"softmax\"))"
   ]
  },
  {
   "cell_type": "code",
   "execution_count": 14,
   "id": "ca8f515a",
   "metadata": {},
   "outputs": [
    {
     "name": "stdout",
     "output_type": "stream",
     "text": [
      "Model: \"sequential\"\n",
      "_________________________________________________________________\n",
      " Layer (type)                Output Shape              Param #   \n",
      "=================================================================\n",
      " conv2d (Conv2D)             (None, 26, 26, 32)        320       \n",
      "                                                                 \n",
      " max_pooling2d (MaxPooling2D  (None, 13, 13, 32)       0         \n",
      " )                                                               \n",
      "                                                                 \n",
      " flatten (Flatten)           (None, 5408)              0         \n",
      "                                                                 \n",
      " dense (Dense)               (None, 200)               1081800   \n",
      "                                                                 \n",
      " dense_1 (Dense)             (None, 100)               20100     \n",
      "                                                                 \n",
      " dense_2 (Dense)             (None, 10)                1010      \n",
      "                                                                 \n",
      "=================================================================\n",
      "Total params: 1,103,230\n",
      "Trainable params: 1,103,230\n",
      "Non-trainable params: 0\n",
      "_________________________________________________________________\n"
     ]
    }
   ],
   "source": [
    "model.summary()"
   ]
  },
  {
   "cell_type": "code",
   "execution_count": 15,
   "id": "79f01e21",
   "metadata": {},
   "outputs": [],
   "source": [
    "model.compile(loss=\"sparse_categorical_crossentropy\" ,\n",
    "             optimizer=\"sgd\",\n",
    "             metrics=[\"accuracy\"])"
   ]
  },
  {
   "cell_type": "code",
   "execution_count": 16,
   "id": "dbb4979e",
   "metadata": {},
   "outputs": [
    {
     "name": "stdout",
     "output_type": "stream",
     "text": [
      "Epoch 1/60\n",
      "1688/1688 [==============================] - 25s 14ms/step - loss: 0.5200 - accuracy: 0.8595 - val_loss: 0.2214 - val_accuracy: 0.9358\n",
      "Epoch 2/60\n",
      "1688/1688 [==============================] - 25s 15ms/step - loss: 0.2025 - accuracy: 0.9390 - val_loss: 0.1600 - val_accuracy: 0.9525\n",
      "Epoch 3/60\n",
      "1688/1688 [==============================] - 26s 15ms/step - loss: 0.1495 - accuracy: 0.9544 - val_loss: 0.1277 - val_accuracy: 0.9630\n",
      "Epoch 4/60\n",
      "1688/1688 [==============================] - 26s 15ms/step - loss: 0.1199 - accuracy: 0.9636 - val_loss: 0.1056 - val_accuracy: 0.9710\n",
      "Epoch 5/60\n",
      "1688/1688 [==============================] - 23s 14ms/step - loss: 0.1016 - accuracy: 0.9687 - val_loss: 0.0969 - val_accuracy: 0.9710\n",
      "Epoch 6/60\n",
      "1688/1688 [==============================] - 25s 15ms/step - loss: 0.0873 - accuracy: 0.9737 - val_loss: 0.0874 - val_accuracy: 0.9737\n",
      "Epoch 7/60\n",
      "1688/1688 [==============================] - 26s 15ms/step - loss: 0.0777 - accuracy: 0.9771 - val_loss: 0.0799 - val_accuracy: 0.9752\n",
      "Epoch 8/60\n",
      "1688/1688 [==============================] - 26s 15ms/step - loss: 0.0689 - accuracy: 0.9790 - val_loss: 0.0736 - val_accuracy: 0.9793\n",
      "Epoch 9/60\n",
      "1688/1688 [==============================] - 24s 14ms/step - loss: 0.0626 - accuracy: 0.9808 - val_loss: 0.0803 - val_accuracy: 0.9762\n",
      "Epoch 10/60\n",
      "1688/1688 [==============================] - 26s 15ms/step - loss: 0.0566 - accuracy: 0.9823 - val_loss: 0.0695 - val_accuracy: 0.9785\n",
      "Epoch 11/60\n",
      "1688/1688 [==============================] - 26s 15ms/step - loss: 0.0506 - accuracy: 0.9845 - val_loss: 0.0637 - val_accuracy: 0.9813\n",
      "Epoch 12/60\n",
      "1688/1688 [==============================] - 26s 16ms/step - loss: 0.0469 - accuracy: 0.9857 - val_loss: 0.0735 - val_accuracy: 0.9782\n",
      "Epoch 13/60\n",
      "1688/1688 [==============================] - 26s 15ms/step - loss: 0.0423 - accuracy: 0.9866 - val_loss: 0.0705 - val_accuracy: 0.9783\n",
      "Epoch 14/60\n",
      "1688/1688 [==============================] - 26s 16ms/step - loss: 0.0391 - accuracy: 0.9879 - val_loss: 0.0617 - val_accuracy: 0.9835\n",
      "Epoch 15/60\n",
      "1688/1688 [==============================] - 26s 16ms/step - loss: 0.0359 - accuracy: 0.9887 - val_loss: 0.0615 - val_accuracy: 0.9823\n",
      "Epoch 16/60\n",
      "1688/1688 [==============================] - 26s 15ms/step - loss: 0.0327 - accuracy: 0.9898 - val_loss: 0.0663 - val_accuracy: 0.9797\n",
      "Epoch 17/60\n",
      "1688/1688 [==============================] - 26s 16ms/step - loss: 0.0306 - accuracy: 0.9908 - val_loss: 0.0718 - val_accuracy: 0.9800\n",
      "Epoch 18/60\n",
      "1688/1688 [==============================] - 27s 16ms/step - loss: 0.0267 - accuracy: 0.9922 - val_loss: 0.0593 - val_accuracy: 0.9823\n",
      "Epoch 19/60\n",
      "1688/1688 [==============================] - 28s 17ms/step - loss: 0.0256 - accuracy: 0.9921 - val_loss: 0.0690 - val_accuracy: 0.9798\n",
      "Epoch 20/60\n",
      "1688/1688 [==============================] - 26s 16ms/step - loss: 0.0232 - accuracy: 0.9931 - val_loss: 0.0668 - val_accuracy: 0.9812\n",
      "Epoch 21/60\n",
      "1688/1688 [==============================] - 25s 15ms/step - loss: 0.0215 - accuracy: 0.9934 - val_loss: 0.0633 - val_accuracy: 0.9828\n",
      "Epoch 22/60\n",
      "1688/1688 [==============================] - 26s 15ms/step - loss: 0.0196 - accuracy: 0.9944 - val_loss: 0.0583 - val_accuracy: 0.9833\n",
      "Epoch 23/60\n",
      "1688/1688 [==============================] - 25s 15ms/step - loss: 0.0181 - accuracy: 0.9948 - val_loss: 0.0671 - val_accuracy: 0.9837\n",
      "Epoch 24/60\n",
      "1688/1688 [==============================] - 25s 15ms/step - loss: 0.0160 - accuracy: 0.9959 - val_loss: 0.0604 - val_accuracy: 0.9835\n",
      "Epoch 25/60\n",
      "1688/1688 [==============================] - 27s 16ms/step - loss: 0.0152 - accuracy: 0.9957 - val_loss: 0.0608 - val_accuracy: 0.9842\n",
      "Epoch 26/60\n",
      "1688/1688 [==============================] - 27s 16ms/step - loss: 0.0138 - accuracy: 0.9964 - val_loss: 0.0633 - val_accuracy: 0.9817\n",
      "Epoch 27/60\n",
      "1688/1688 [==============================] - 25s 15ms/step - loss: 0.0124 - accuracy: 0.9966 - val_loss: 0.0606 - val_accuracy: 0.9847\n",
      "Epoch 28/60\n",
      "1688/1688 [==============================] - 26s 15ms/step - loss: 0.0116 - accuracy: 0.9972 - val_loss: 0.0623 - val_accuracy: 0.9845\n",
      "Epoch 29/60\n",
      "1688/1688 [==============================] - 26s 15ms/step - loss: 0.0106 - accuracy: 0.9976 - val_loss: 0.0608 - val_accuracy: 0.9838\n",
      "Epoch 30/60\n",
      "1688/1688 [==============================] - 26s 15ms/step - loss: 0.0093 - accuracy: 0.9980 - val_loss: 0.0608 - val_accuracy: 0.9847\n",
      "Epoch 31/60\n",
      "1688/1688 [==============================] - 23s 13ms/step - loss: 0.0088 - accuracy: 0.9979 - val_loss: 0.0570 - val_accuracy: 0.9855\n",
      "Epoch 32/60\n",
      "1688/1688 [==============================] - 26s 15ms/step - loss: 0.0088 - accuracy: 0.9979 - val_loss: 0.0600 - val_accuracy: 0.9848\n",
      "Epoch 33/60\n",
      "1688/1688 [==============================] - 25s 15ms/step - loss: 0.0072 - accuracy: 0.9984 - val_loss: 0.0636 - val_accuracy: 0.9847\n",
      "Epoch 34/60\n",
      "1688/1688 [==============================] - 25s 15ms/step - loss: 0.0065 - accuracy: 0.9986 - val_loss: 0.0615 - val_accuracy: 0.9840\n",
      "Epoch 35/60\n",
      "1688/1688 [==============================] - 25s 15ms/step - loss: 0.0058 - accuracy: 0.9989 - val_loss: 0.0582 - val_accuracy: 0.9853\n",
      "Epoch 36/60\n",
      "1688/1688 [==============================] - 25s 15ms/step - loss: 0.0051 - accuracy: 0.9991 - val_loss: 0.0700 - val_accuracy: 0.9845\n",
      "Epoch 37/60\n",
      "1688/1688 [==============================] - 24s 14ms/step - loss: 0.0049 - accuracy: 0.9991 - val_loss: 0.0650 - val_accuracy: 0.9843\n",
      "Epoch 38/60\n",
      "1688/1688 [==============================] - 24s 14ms/step - loss: 0.0041 - accuracy: 0.9995 - val_loss: 0.0645 - val_accuracy: 0.9853\n",
      "Epoch 39/60\n",
      "1688/1688 [==============================] - 24s 14ms/step - loss: 0.0039 - accuracy: 0.9995 - val_loss: 0.0651 - val_accuracy: 0.9848\n",
      "Epoch 40/60\n",
      "1688/1688 [==============================] - 24s 14ms/step - loss: 0.0035 - accuracy: 0.9995 - val_loss: 0.0699 - val_accuracy: 0.9845\n",
      "Epoch 41/60\n",
      "1688/1688 [==============================] - 25s 15ms/step - loss: 0.0031 - accuracy: 0.9996 - val_loss: 0.0650 - val_accuracy: 0.9858\n",
      "Epoch 42/60\n",
      "1688/1688 [==============================] - 24s 14ms/step - loss: 0.0030 - accuracy: 0.9997 - val_loss: 0.0646 - val_accuracy: 0.9847\n",
      "Epoch 43/60\n",
      "1688/1688 [==============================] - 25s 15ms/step - loss: 0.0026 - accuracy: 0.9998 - val_loss: 0.0688 - val_accuracy: 0.9850\n",
      "Epoch 44/60\n",
      "1688/1688 [==============================] - 25s 15ms/step - loss: 0.0025 - accuracy: 0.9998 - val_loss: 0.0664 - val_accuracy: 0.9848\n",
      "Epoch 45/60\n",
      "1688/1688 [==============================] - 24s 14ms/step - loss: 0.0021 - accuracy: 0.9998 - val_loss: 0.0650 - val_accuracy: 0.9847\n",
      "Epoch 46/60\n",
      "1688/1688 [==============================] - 25s 15ms/step - loss: 0.0022 - accuracy: 0.9997 - val_loss: 0.0651 - val_accuracy: 0.9857\n",
      "Epoch 47/60\n",
      "1688/1688 [==============================] - 25s 15ms/step - loss: 0.0020 - accuracy: 0.9998 - val_loss: 0.0643 - val_accuracy: 0.9863\n",
      "Epoch 48/60\n",
      "1688/1688 [==============================] - 25s 15ms/step - loss: 0.0018 - accuracy: 0.9999 - val_loss: 0.0651 - val_accuracy: 0.9850\n",
      "Epoch 49/60\n",
      "1688/1688 [==============================] - 25s 15ms/step - loss: 0.0015 - accuracy: 1.0000 - val_loss: 0.0668 - val_accuracy: 0.9852\n",
      "Epoch 50/60\n",
      "1688/1688 [==============================] - 25s 15ms/step - loss: 0.0015 - accuracy: 0.9999 - val_loss: 0.0698 - val_accuracy: 0.9852\n",
      "Epoch 51/60\n",
      "1688/1688 [==============================] - 24s 14ms/step - loss: 0.0014 - accuracy: 0.9999 - val_loss: 0.0666 - val_accuracy: 0.9852\n",
      "Epoch 52/60\n",
      "1688/1688 [==============================] - 25s 15ms/step - loss: 0.0013 - accuracy: 0.9999 - val_loss: 0.0657 - val_accuracy: 0.9862\n",
      "Epoch 53/60\n",
      "1688/1688 [==============================] - 26s 15ms/step - loss: 0.0012 - accuracy: 1.0000 - val_loss: 0.0667 - val_accuracy: 0.9863\n",
      "Epoch 54/60\n",
      "1688/1688 [==============================] - 25s 15ms/step - loss: 0.0012 - accuracy: 0.9999 - val_loss: 0.0699 - val_accuracy: 0.9857\n",
      "Epoch 55/60\n",
      "1688/1688 [==============================] - 25s 15ms/step - loss: 0.0011 - accuracy: 1.0000 - val_loss: 0.0686 - val_accuracy: 0.9865\n",
      "Epoch 56/60\n",
      "1688/1688 [==============================] - 25s 15ms/step - loss: 0.0011 - accuracy: 1.0000 - val_loss: 0.0684 - val_accuracy: 0.9855\n"
     ]
    },
    {
     "name": "stdout",
     "output_type": "stream",
     "text": [
      "Epoch 57/60\n",
      "1688/1688 [==============================] - 24s 14ms/step - loss: 0.0010 - accuracy: 1.0000 - val_loss: 0.0691 - val_accuracy: 0.9852\n",
      "Epoch 58/60\n",
      "1688/1688 [==============================] - 24s 14ms/step - loss: 0.0010 - accuracy: 0.9999 - val_loss: 0.0686 - val_accuracy: 0.9855\n",
      "Epoch 59/60\n",
      "1688/1688 [==============================] - 24s 14ms/step - loss: 9.2669e-04 - accuracy: 1.0000 - val_loss: 0.0704 - val_accuracy: 0.9852\n",
      "Epoch 60/60\n",
      "1688/1688 [==============================] - 24s 14ms/step - loss: 8.6261e-04 - accuracy: 1.0000 - val_loss: 0.0701 - val_accuracy: 0.9860\n"
     ]
    }
   ],
   "source": [
    "model_history=model.fit(x_train,y_train,epochs=60,\n",
    "                       validation_data=(x_valid,y_valid))"
   ]
  },
  {
   "cell_type": "code",
   "execution_count": 17,
   "id": "563b6111",
   "metadata": {},
   "outputs": [
    {
     "data": {
      "text/plain": [
       "{'loss': [0.5199888944625854,\n",
       "  0.2025212198495865,\n",
       "  0.14952513575553894,\n",
       "  0.11991161108016968,\n",
       "  0.10159224271774292,\n",
       "  0.08727598935365677,\n",
       "  0.07774603366851807,\n",
       "  0.0688592866063118,\n",
       "  0.06259067356586456,\n",
       "  0.056644514203071594,\n",
       "  0.050619881600141525,\n",
       "  0.04694646969437599,\n",
       "  0.042346544563770294,\n",
       "  0.03910492733120918,\n",
       "  0.035911377519369125,\n",
       "  0.03271545469760895,\n",
       "  0.03060220181941986,\n",
       "  0.02667497843503952,\n",
       "  0.02564901113510132,\n",
       "  0.023175997659564018,\n",
       "  0.021469147875905037,\n",
       "  0.01957452856004238,\n",
       "  0.018095867708325386,\n",
       "  0.01600019261240959,\n",
       "  0.015181563794612885,\n",
       "  0.013800999149680138,\n",
       "  0.012433156371116638,\n",
       "  0.011556335724890232,\n",
       "  0.010618562810122967,\n",
       "  0.00933865550905466,\n",
       "  0.008818300440907478,\n",
       "  0.008753332309424877,\n",
       "  0.007223319262266159,\n",
       "  0.0065387855283916,\n",
       "  0.005823398008942604,\n",
       "  0.005149641074240208,\n",
       "  0.004930466879159212,\n",
       "  0.00405277730897069,\n",
       "  0.003907009493559599,\n",
       "  0.0034931874834001064,\n",
       "  0.0031209364533424377,\n",
       "  0.00296605727635324,\n",
       "  0.002630474278703332,\n",
       "  0.0024607402738183737,\n",
       "  0.002146062906831503,\n",
       "  0.0022485980298370123,\n",
       "  0.0020017046481370926,\n",
       "  0.0017578591359779239,\n",
       "  0.0014760383637621999,\n",
       "  0.001496035954914987,\n",
       "  0.0014444324187934399,\n",
       "  0.0012869981583207846,\n",
       "  0.0011911280453205109,\n",
       "  0.001179637503810227,\n",
       "  0.0011353709269315004,\n",
       "  0.0010543883545324206,\n",
       "  0.0010135779157280922,\n",
       "  0.001001051627099514,\n",
       "  0.0009266890119761229,\n",
       "  0.000862607266753912],\n",
       " 'accuracy': [0.8595370650291443,\n",
       "  0.939037024974823,\n",
       "  0.9543889164924622,\n",
       "  0.9636481404304504,\n",
       "  0.9687222242355347,\n",
       "  0.9737222194671631,\n",
       "  0.977148175239563,\n",
       "  0.9790370464324951,\n",
       "  0.9808148145675659,\n",
       "  0.9823148250579834,\n",
       "  0.9845370650291443,\n",
       "  0.9856666922569275,\n",
       "  0.9866111278533936,\n",
       "  0.9879074096679688,\n",
       "  0.9886851906776428,\n",
       "  0.989814817905426,\n",
       "  0.9907962679862976,\n",
       "  0.9921851754188538,\n",
       "  0.9920555353164673,\n",
       "  0.9930740594863892,\n",
       "  0.9934444427490234,\n",
       "  0.994351863861084,\n",
       "  0.9947592616081238,\n",
       "  0.9958518743515015,\n",
       "  0.9957407116889954,\n",
       "  0.9963518381118774,\n",
       "  0.9966296553611755,\n",
       "  0.9971851706504822,\n",
       "  0.9975555539131165,\n",
       "  0.9980370402336121,\n",
       "  0.9979259371757507,\n",
       "  0.9979444742202759,\n",
       "  0.9983888864517212,\n",
       "  0.9986110925674438,\n",
       "  0.9988889098167419,\n",
       "  0.9990925788879395,\n",
       "  0.9991111159324646,\n",
       "  0.9994629621505737,\n",
       "  0.9995185136795044,\n",
       "  0.9995185136795044,\n",
       "  0.9996481537818909,\n",
       "  0.999666690826416,\n",
       "  0.9997592568397522,\n",
       "  0.9997962713241577,\n",
       "  0.999833345413208,\n",
       "  0.999740719795227,\n",
       "  0.9998148083686829,\n",
       "  0.9998888969421387,\n",
       "  0.9999814629554749,\n",
       "  0.9998703598976135,\n",
       "  0.9999074339866638,\n",
       "  0.9999444484710693,\n",
       "  0.9999814629554749,\n",
       "  0.9999444484710693,\n",
       "  0.9999629855155945,\n",
       "  0.9999629855155945,\n",
       "  0.9999814629554749,\n",
       "  0.9999444484710693,\n",
       "  1.0,\n",
       "  1.0],\n",
       " 'val_loss': [0.22144173085689545,\n",
       "  0.16003452241420746,\n",
       "  0.12768931686878204,\n",
       "  0.10558176785707474,\n",
       "  0.09685530513525009,\n",
       "  0.08740517497062683,\n",
       "  0.07994085550308228,\n",
       "  0.07360696792602539,\n",
       "  0.08028881251811981,\n",
       "  0.06952359527349472,\n",
       "  0.06366820633411407,\n",
       "  0.07348764687776566,\n",
       "  0.07045736908912659,\n",
       "  0.06167605146765709,\n",
       "  0.06146954745054245,\n",
       "  0.06629584729671478,\n",
       "  0.07179956138134003,\n",
       "  0.05934552103281021,\n",
       "  0.06900235265493393,\n",
       "  0.06679878383874893,\n",
       "  0.06333880871534348,\n",
       "  0.05830572918057442,\n",
       "  0.06711304187774658,\n",
       "  0.060407329350709915,\n",
       "  0.0608086958527565,\n",
       "  0.06332404911518097,\n",
       "  0.060648512095212936,\n",
       "  0.06229888275265694,\n",
       "  0.060766831040382385,\n",
       "  0.060784727334976196,\n",
       "  0.05695025995373726,\n",
       "  0.05996925011277199,\n",
       "  0.06361071020364761,\n",
       "  0.06154763698577881,\n",
       "  0.05815272033214569,\n",
       "  0.0699668675661087,\n",
       "  0.06497758626937866,\n",
       "  0.06454599648714066,\n",
       "  0.06506054103374481,\n",
       "  0.06987113505601883,\n",
       "  0.06503045558929443,\n",
       "  0.06458433717489243,\n",
       "  0.06884495168924332,\n",
       "  0.0663774237036705,\n",
       "  0.06498891115188599,\n",
       "  0.06507661193609238,\n",
       "  0.06427551060914993,\n",
       "  0.06512785702943802,\n",
       "  0.06682321429252625,\n",
       "  0.06982491165399551,\n",
       "  0.06664521247148514,\n",
       "  0.0657176598906517,\n",
       "  0.06673901528120041,\n",
       "  0.06988457590341568,\n",
       "  0.06856522709131241,\n",
       "  0.0683855265378952,\n",
       "  0.06912556290626526,\n",
       "  0.06858906894922256,\n",
       "  0.07040644437074661,\n",
       "  0.07010690867900848],\n",
       " 'val_accuracy': [0.9358333349227905,\n",
       "  0.9524999856948853,\n",
       "  0.9629999995231628,\n",
       "  0.9710000157356262,\n",
       "  0.9710000157356262,\n",
       "  0.9736666679382324,\n",
       "  0.9751666784286499,\n",
       "  0.9793333411216736,\n",
       "  0.9761666655540466,\n",
       "  0.9785000085830688,\n",
       "  0.981333315372467,\n",
       "  0.9781666398048401,\n",
       "  0.9783333539962769,\n",
       "  0.9835000038146973,\n",
       "  0.9823333621025085,\n",
       "  0.9796666502952576,\n",
       "  0.9800000190734863,\n",
       "  0.9823333621025085,\n",
       "  0.9798333048820496,\n",
       "  0.981166660785675,\n",
       "  0.9828333258628845,\n",
       "  0.9833333492279053,\n",
       "  0.9836666584014893,\n",
       "  0.9835000038146973,\n",
       "  0.98416668176651,\n",
       "  0.9816666841506958,\n",
       "  0.984666645526886,\n",
       "  0.984499990940094,\n",
       "  0.9838333129882812,\n",
       "  0.984666645526886,\n",
       "  0.9854999780654907,\n",
       "  0.9848333597183228,\n",
       "  0.984666645526886,\n",
       "  0.984000027179718,\n",
       "  0.9853333234786987,\n",
       "  0.984499990940094,\n",
       "  0.984333336353302,\n",
       "  0.9853333234786987,\n",
       "  0.9848333597183228,\n",
       "  0.984499990940094,\n",
       "  0.9858333468437195,\n",
       "  0.984666645526886,\n",
       "  0.9850000143051147,\n",
       "  0.9848333597183228,\n",
       "  0.984666645526886,\n",
       "  0.9856666922569275,\n",
       "  0.9863333106040955,\n",
       "  0.9850000143051147,\n",
       "  0.9851666688919067,\n",
       "  0.9851666688919067,\n",
       "  0.9851666688919067,\n",
       "  0.9861666560173035,\n",
       "  0.9863333106040955,\n",
       "  0.9856666922569275,\n",
       "  0.9865000247955322,\n",
       "  0.9854999780654907,\n",
       "  0.9851666688919067,\n",
       "  0.9854999780654907,\n",
       "  0.9851666688919067,\n",
       "  0.9860000014305115]}"
      ]
     },
     "execution_count": 17,
     "metadata": {},
     "output_type": "execute_result"
    }
   ],
   "source": [
    "model_history.history"
   ]
  },
  {
   "cell_type": "code",
   "execution_count": 18,
   "id": "81e86895",
   "metadata": {},
   "outputs": [
    {
     "data": {
      "image/png": "[encoded data removed]",
      "text/plain": [
       "<Figure size 576x360 with 1 Axes>"
      ]
     },
     "metadata": {
      "needs_background": "light"
     },
     "output_type": "display_data"
    }
   ],
   "source": [
    "import pandas as pd \n",
    "pd.DataFrame(model_history.history).plot(figsize=(8,5))\n",
    "plt.grid(True)\n",
    "plt.gca().set_ylim(0,1)\n",
    "plt.show() "
   ]
  },
  {
   "cell_type": "code",
   "execution_count": 19,
   "id": "7c7c81d1",
   "metadata": {},
   "outputs": [
    {
     "name": "stdout",
     "output_type": "stream",
     "text": [
      "1688/1688 [==============================] - 6s 4ms/step - loss: 7.5435e-04 - accuracy: 1.0000\n"
     ]
    },
    {
     "data": {
      "text/plain": [
       "[0.0007543484680354595, 1.0]"
      ]
     },
     "execution_count": 19,
     "metadata": {},
     "output_type": "execute_result"
    }
   ],
   "source": [
    "model.evaluate(x_train,y_train)"
   ]
  },
  {
   "cell_type": "code",
   "execution_count": 20,
   "id": "61e2d657",
   "metadata": {},
   "outputs": [],
   "source": [
    "x_new=x_test[:5]"
   ]
  },
  {
   "cell_type": "code",
   "execution_count": 21,
   "id": "15d25e33",
   "metadata": {},
   "outputs": [
    {
     "name": "stdout",
     "output_type": "stream",
     "text": [
      "1/1 [==============================] - 0s 93ms/step\n"
     ]
    },
    {
     "data": {
      "text/plain": [
       "array([[0., 0., 0., 0., 0., 0., 0., 1., 0., 0.],\n",
       "       [0., 0., 1., 0., 0., 0., 0., 0., 0., 0.],\n",
       "       [0., 1., 0., 0., 0., 0., 0., 0., 0., 0.],\n",
       "       [1., 0., 0., 0., 0., 0., 0., 0., 0., 0.],\n",
       "       [0., 0., 0., 0., 1., 0., 0., 0., 0., 0.]], dtype=float32)"
      ]
     },
     "execution_count": 21,
     "metadata": {},
     "output_type": "execute_result"
    }
   ],
   "source": [
    "y_proba=model.predict(x_new)\n",
    "y_proba.round(2)"
   ]
  },
  {
   "cell_type": "code",
   "execution_count": 22,
   "id": "cabf6868",
   "metadata": {},
   "outputs": [
    {
     "name": "stdout",
     "output_type": "stream",
     "text": [
      "1/1 [==============================] - 0s 17ms/step\n"
     ]
    },
    {
     "data": {
      "text/plain": [
       "array([7, 2, 1, 0, 4], dtype=int64)"
      ]
     },
     "execution_count": 22,
     "metadata": {},
     "output_type": "execute_result"
    }
   ],
   "source": [
    "y_pred=np.argmax(model.predict(x_new),axis=1)\n",
    "y_pred"
   ]
  },
  {
   "cell_type": "code",
   "execution_count": 23,
   "id": "3622275a",
   "metadata": {},
   "outputs": [
    {
     "data": {
      "text/plain": [
       "array(['7', '2', '1', '0', '4'], dtype='<U1')"
      ]
     },
     "execution_count": 23,
     "metadata": {},
     "output_type": "execute_result"
    }
   ],
   "source": [
    "np.array(class_names)[y_pred]"
   ]
  },
  {
   "cell_type": "code",
   "execution_count": 24,
   "id": "788c507b",
   "metadata": {},
   "outputs": [
    {
     "name": "stdout",
     "output_type": "stream",
     "text": [
      "AxesImage(54,36;334.8x217.44)\n"
     ]
    },
    {
     "data": {
      "image/png": "[encoded data removed]",
      "text/plain": [
       "<Figure size 432x288 with 1 Axes>"
      ]
     },
     "metadata": {
      "needs_background": "light"
     },
     "output_type": "display_data"
    }
   ],
   "source": [
    "print(plt.imshow(x_test[0]))"
   ]
  },
  {
   "cell_type": "markdown",
   "id": "dcc9d6a9",
   "metadata": {},
   "source": [
    "## Another model with filter 64"
   ]
  },
  {
   "cell_type": "code",
   "execution_count": 25,
   "id": "179ffbe3",
   "metadata": {},
   "outputs": [],
   "source": [
    "model_b=keras.models.Sequential()\n",
    "model_b.add(keras.layers.Conv2D(filters=64,kernel_size=(3,3),strides=1,padding=\"valid\",activation=\"relu\",input_shape=[28,28,1]))\n",
    "model_b.add(keras.layers.MaxPooling2D((2,2)))\n",
    "\n",
    "model_b.add(keras.layers.Flatten())\n",
    "model_b.add(keras.layers.Dense(200,activation=\"relu\"))\n",
    "model_b.add(keras.layers.Dense(100,activation=\"relu\"))\n",
    "model_b.add(keras.layers.Dense(10,activation=\"softmax\"))"
   ]
  },
  {
   "cell_type": "code",
   "execution_count": 26,
   "id": "529f834c",
   "metadata": {},
   "outputs": [
    {
     "name": "stdout",
     "output_type": "stream",
     "text": [
      "Model: \"sequential\"\n",
      "_________________________________________________________________\n",
      " Layer (type)                Output Shape              Param #   \n",
      "=================================================================\n",
      " conv2d (Conv2D)             (None, 26, 26, 32)        320       \n",
      "                                                                 \n",
      " max_pooling2d (MaxPooling2D  (None, 13, 13, 32)       0         \n",
      " )                                                               \n",
      "                                                                 \n",
      " flatten (Flatten)           (None, 5408)              0         \n",
      "                                                                 \n",
      " dense (Dense)               (None, 200)               1081800   \n",
      "                                                                 \n",
      " dense_1 (Dense)             (None, 100)               20100     \n",
      "                                                                 \n",
      " dense_2 (Dense)             (None, 10)                1010      \n",
      "                                                                 \n",
      "=================================================================\n",
      "Total params: 1,103,230\n",
      "Trainable params: 1,103,230\n",
      "Non-trainable params: 0\n",
      "_________________________________________________________________\n"
     ]
    }
   ],
   "source": [
    "model.summary()"
   ]
  },
  {
   "cell_type": "code",
   "execution_count": 29,
   "id": "7373f5a3",
   "metadata": {},
   "outputs": [],
   "source": [
    "model_b.compile(loss=\"sparse_categorical_crossentropy\" ,\n",
    "             optimizer=\"sgd\",\n",
    "             metrics=[\"accuracy\"])"
   ]
  },
  {
   "cell_type": "code",
   "execution_count": 30,
   "id": "6afcce7b",
   "metadata": {},
   "outputs": [
    {
     "name": "stdout",
     "output_type": "stream",
     "text": [
      "Epoch 1/60\n",
      "1688/1688 [==============================] - 22s 13ms/step - loss: 8.4778e-04 - accuracy: 1.0000 - val_loss: 0.0704 - val_accuracy: 0.9852\n",
      "Epoch 2/60\n",
      "1688/1688 [==============================] - 21s 12ms/step - loss: 8.3303e-04 - accuracy: 1.0000 - val_loss: 0.0707 - val_accuracy: 0.9858\n",
      "Epoch 3/60\n",
      "1688/1688 [==============================] - 21s 12ms/step - loss: 8.1228e-04 - accuracy: 1.0000 - val_loss: 0.0704 - val_accuracy: 0.9855\n",
      "Epoch 4/60\n",
      "1688/1688 [==============================] - 24s 14ms/step - loss: 7.7668e-04 - accuracy: 1.0000 - val_loss: 0.0723 - val_accuracy: 0.9860\n",
      "Epoch 5/60\n",
      "1688/1688 [==============================] - 24s 14ms/step - loss: 7.2661e-04 - accuracy: 1.0000 - val_loss: 0.0719 - val_accuracy: 0.9857\n",
      "Epoch 6/60\n",
      "1688/1688 [==============================] - 25s 15ms/step - loss: 7.1108e-04 - accuracy: 1.0000 - val_loss: 0.0702 - val_accuracy: 0.9847\n",
      "Epoch 7/60\n",
      "1688/1688 [==============================] - 25s 15ms/step - loss: 6.8023e-04 - accuracy: 1.0000 - val_loss: 0.0727 - val_accuracy: 0.9852\n",
      "Epoch 8/60\n",
      "1688/1688 [==============================] - 25s 15ms/step - loss: 6.5273e-04 - accuracy: 1.0000 - val_loss: 0.0724 - val_accuracy: 0.9853\n",
      "Epoch 9/60\n",
      "1688/1688 [==============================] - 25s 15ms/step - loss: 6.2751e-04 - accuracy: 1.0000 - val_loss: 0.0717 - val_accuracy: 0.9850\n",
      "Epoch 10/60\n",
      "1688/1688 [==============================] - 25s 15ms/step - loss: 6.1850e-04 - accuracy: 1.0000 - val_loss: 0.0729 - val_accuracy: 0.9858\n",
      "Epoch 11/60\n",
      "1688/1688 [==============================] - 25s 15ms/step - loss: 5.9951e-04 - accuracy: 1.0000 - val_loss: 0.0726 - val_accuracy: 0.9853\n",
      "Epoch 12/60\n",
      "1688/1688 [==============================] - 25s 15ms/step - loss: 5.7596e-04 - accuracy: 1.0000 - val_loss: 0.0740 - val_accuracy: 0.9860\n",
      "Epoch 13/60\n",
      "1688/1688 [==============================] - 25s 15ms/step - loss: 5.8569e-04 - accuracy: 1.0000 - val_loss: 0.0718 - val_accuracy: 0.9852\n",
      "Epoch 14/60\n",
      "1688/1688 [==============================] - 25s 15ms/step - loss: 5.4443e-04 - accuracy: 1.0000 - val_loss: 0.0729 - val_accuracy: 0.9858\n",
      "Epoch 15/60\n",
      "1688/1688 [==============================] - 25s 15ms/step - loss: 5.4099e-04 - accuracy: 1.0000 - val_loss: 0.0735 - val_accuracy: 0.9857\n",
      "Epoch 16/60\n",
      "1688/1688 [==============================] - 25s 15ms/step - loss: 5.1910e-04 - accuracy: 1.0000 - val_loss: 0.0736 - val_accuracy: 0.9852\n",
      "Epoch 17/60\n",
      "1688/1688 [==============================] - 25s 15ms/step - loss: 5.1526e-04 - accuracy: 1.0000 - val_loss: 0.0738 - val_accuracy: 0.9865\n",
      "Epoch 18/60\n",
      "1688/1688 [==============================] - 25s 15ms/step - loss: 4.9064e-04 - accuracy: 1.0000 - val_loss: 0.0739 - val_accuracy: 0.9855\n",
      "Epoch 19/60\n",
      "1688/1688 [==============================] - 26s 15ms/step - loss: 4.8206e-04 - accuracy: 1.0000 - val_loss: 0.0737 - val_accuracy: 0.9848\n",
      "Epoch 20/60\n",
      "1688/1688 [==============================] - 25s 15ms/step - loss: 4.7998e-04 - accuracy: 1.0000 - val_loss: 0.0741 - val_accuracy: 0.9860\n",
      "Epoch 21/60\n",
      "1688/1688 [==============================] - 25s 15ms/step - loss: 4.6667e-04 - accuracy: 1.0000 - val_loss: 0.0745 - val_accuracy: 0.9858\n",
      "Epoch 22/60\n",
      "1688/1688 [==============================] - 25s 15ms/step - loss: 4.4812e-04 - accuracy: 1.0000 - val_loss: 0.0752 - val_accuracy: 0.9855\n",
      "Epoch 23/60\n",
      "1688/1688 [==============================] - 25s 15ms/step - loss: 4.4419e-04 - accuracy: 1.0000 - val_loss: 0.0755 - val_accuracy: 0.9852\n",
      "Epoch 24/60\n",
      "1688/1688 [==============================] - 25s 15ms/step - loss: 4.3002e-04 - accuracy: 1.0000 - val_loss: 0.0748 - val_accuracy: 0.9850\n",
      "Epoch 25/60\n",
      "1688/1688 [==============================] - 25s 15ms/step - loss: 4.1736e-04 - accuracy: 1.0000 - val_loss: 0.0760 - val_accuracy: 0.9850\n",
      "Epoch 26/60\n",
      "1688/1688 [==============================] - 25s 15ms/step - loss: 4.1556e-04 - accuracy: 1.0000 - val_loss: 0.0757 - val_accuracy: 0.9855\n",
      "Epoch 27/60\n",
      "1688/1688 [==============================] - 25s 15ms/step - loss: 4.0200e-04 - accuracy: 1.0000 - val_loss: 0.0747 - val_accuracy: 0.9850\n",
      "Epoch 28/60\n",
      "1688/1688 [==============================] - 25s 15ms/step - loss: 3.9644e-04 - accuracy: 1.0000 - val_loss: 0.0757 - val_accuracy: 0.9858\n",
      "Epoch 29/60\n",
      "1688/1688 [==============================] - 25s 15ms/step - loss: 3.8649e-04 - accuracy: 1.0000 - val_loss: 0.0755 - val_accuracy: 0.9853\n",
      "Epoch 30/60\n",
      "1688/1688 [==============================] - 25s 15ms/step - loss: 3.7770e-04 - accuracy: 1.0000 - val_loss: 0.0770 - val_accuracy: 0.9857\n",
      "Epoch 31/60\n",
      "1688/1688 [==============================] - 25s 15ms/step - loss: 3.7067e-04 - accuracy: 1.0000 - val_loss: 0.0758 - val_accuracy: 0.9853\n",
      "Epoch 32/60\n",
      "1688/1688 [==============================] - 25s 15ms/step - loss: 3.6432e-04 - accuracy: 1.0000 - val_loss: 0.0762 - val_accuracy: 0.9855\n",
      "Epoch 33/60\n",
      "1688/1688 [==============================] - 25s 15ms/step - loss: 3.6079e-04 - accuracy: 1.0000 - val_loss: 0.0766 - val_accuracy: 0.9850\n",
      "Epoch 34/60\n",
      "1688/1688 [==============================] - 26s 15ms/step - loss: 3.5351e-04 - accuracy: 1.0000 - val_loss: 0.0764 - val_accuracy: 0.9857\n",
      "Epoch 35/60\n",
      "1688/1688 [==============================] - 25s 15ms/step - loss: 3.4089e-04 - accuracy: 1.0000 - val_loss: 0.0772 - val_accuracy: 0.9855\n",
      "Epoch 36/60\n",
      "1688/1688 [==============================] - 25s 15ms/step - loss: 3.3344e-04 - accuracy: 1.0000 - val_loss: 0.0779 - val_accuracy: 0.9857\n",
      "Epoch 37/60\n",
      "1688/1688 [==============================] - 26s 15ms/step - loss: 3.3758e-04 - accuracy: 1.0000 - val_loss: 0.0785 - val_accuracy: 0.9860\n",
      "Epoch 38/60\n",
      "1688/1688 [==============================] - 25s 15ms/step - loss: 3.2638e-04 - accuracy: 1.0000 - val_loss: 0.0779 - val_accuracy: 0.9853\n",
      "Epoch 39/60\n",
      "1688/1688 [==============================] - 25s 15ms/step - loss: 3.1854e-04 - accuracy: 1.0000 - val_loss: 0.0782 - val_accuracy: 0.9855\n",
      "Epoch 40/60\n",
      "1688/1688 [==============================] - 26s 15ms/step - loss: 3.1781e-04 - accuracy: 1.0000 - val_loss: 0.0783 - val_accuracy: 0.9853\n",
      "Epoch 41/60\n",
      "1688/1688 [==============================] - 25s 15ms/step - loss: 3.0767e-04 - accuracy: 1.0000 - val_loss: 0.0777 - val_accuracy: 0.9857\n",
      "Epoch 42/60\n",
      "1688/1688 [==============================] - 25s 15ms/step - loss: 3.0551e-04 - accuracy: 1.0000 - val_loss: 0.0779 - val_accuracy: 0.9853\n",
      "Epoch 43/60\n",
      "1688/1688 [==============================] - 26s 15ms/step - loss: 2.9759e-04 - accuracy: 1.0000 - val_loss: 0.0796 - val_accuracy: 0.9853\n",
      "Epoch 44/60\n",
      "1688/1688 [==============================] - 27s 16ms/step - loss: 2.9325e-04 - accuracy: 1.0000 - val_loss: 0.0788 - val_accuracy: 0.9855\n",
      "Epoch 45/60\n",
      "1688/1688 [==============================] - 28s 16ms/step - loss: 2.9010e-04 - accuracy: 1.0000 - val_loss: 0.0780 - val_accuracy: 0.9855\n",
      "Epoch 46/60\n",
      "1688/1688 [==============================] - 28s 16ms/step - loss: 2.9051e-04 - accuracy: 1.0000 - val_loss: 0.0792 - val_accuracy: 0.9857\n",
      "Epoch 47/60\n",
      "1688/1688 [==============================] - 28s 17ms/step - loss: 2.7962e-04 - accuracy: 1.0000 - val_loss: 0.0782 - val_accuracy: 0.9858\n",
      "Epoch 48/60\n",
      "1688/1688 [==============================] - 26s 15ms/step - loss: 2.7665e-04 - accuracy: 1.0000 - val_loss: 0.0787 - val_accuracy: 0.9855\n",
      "Epoch 49/60\n",
      "1688/1688 [==============================] - 26s 15ms/step - loss: 2.6761e-04 - accuracy: 1.0000 - val_loss: 0.0792 - val_accuracy: 0.9852\n",
      "Epoch 50/60\n",
      "1688/1688 [==============================] - 26s 15ms/step - loss: 2.6718e-04 - accuracy: 1.0000 - val_loss: 0.0804 - val_accuracy: 0.9857\n",
      "Epoch 51/60\n",
      "1688/1688 [==============================] - 26s 15ms/step - loss: 2.6402e-04 - accuracy: 1.0000 - val_loss: 0.0786 - val_accuracy: 0.9855\n",
      "Epoch 52/60\n",
      "1688/1688 [==============================] - 26s 15ms/step - loss: 2.6013e-04 - accuracy: 1.0000 - val_loss: 0.0780 - val_accuracy: 0.9853\n",
      "Epoch 53/60\n",
      "1688/1688 [==============================] - 26s 15ms/step - loss: 2.5433e-04 - accuracy: 1.0000 - val_loss: 0.0792 - val_accuracy: 0.9855\n",
      "Epoch 54/60\n",
      "1688/1688 [==============================] - 27s 16ms/step - loss: 2.5359e-04 - accuracy: 1.0000 - val_loss: 0.0795 - val_accuracy: 0.9862\n",
      "Epoch 55/60\n"
     ]
    },
    {
     "name": "stdout",
     "output_type": "stream",
     "text": [
      "1688/1688 [==============================] - 25s 15ms/step - loss: 2.5033e-04 - accuracy: 1.0000 - val_loss: 0.0794 - val_accuracy: 0.9853\n",
      "Epoch 56/60\n",
      "1688/1688 [==============================] - 24s 14ms/step - loss: 2.4564e-04 - accuracy: 1.0000 - val_loss: 0.0792 - val_accuracy: 0.9858\n",
      "Epoch 57/60\n",
      "1688/1688 [==============================] - 24s 14ms/step - loss: 2.4212e-04 - accuracy: 1.0000 - val_loss: 0.0803 - val_accuracy: 0.9853\n",
      "Epoch 58/60\n",
      "1688/1688 [==============================] - 24s 14ms/step - loss: 2.4108e-04 - accuracy: 1.0000 - val_loss: 0.0797 - val_accuracy: 0.9853\n",
      "Epoch 59/60\n",
      "1688/1688 [==============================] - 24s 14ms/step - loss: 2.3494e-04 - accuracy: 1.0000 - val_loss: 0.0805 - val_accuracy: 0.9855\n",
      "Epoch 60/60\n",
      "1688/1688 [==============================] - 24s 14ms/step - loss: 2.3077e-04 - accuracy: 1.0000 - val_loss: 0.0802 - val_accuracy: 0.9858\n"
     ]
    }
   ],
   "source": [
    "model_b_history=model.fit(x_train,y_train,epochs=60,\n",
    "                       validation_data=(x_valid,y_valid))"
   ]
  },
  {
   "cell_type": "code",
   "execution_count": 31,
   "id": "e7c79830",
   "metadata": {},
   "outputs": [
    {
     "data": {
      "text/plain": [
       "{'loss': [0.0008477839292027056,\n",
       "  0.0008330316049978137,\n",
       "  0.000812281621620059,\n",
       "  0.0007766760536469519,\n",
       "  0.0007266058819368482,\n",
       "  0.0007110821316018701,\n",
       "  0.0006802314310334623,\n",
       "  0.0006527348305098712,\n",
       "  0.0006275126943364739,\n",
       "  0.0006184988305903971,\n",
       "  0.0005995120154693723,\n",
       "  0.000575956713873893,\n",
       "  0.0005856879288330674,\n",
       "  0.000544434878975153,\n",
       "  0.000540994806215167,\n",
       "  0.0005191036034375429,\n",
       "  0.0005152627709321678,\n",
       "  0.0004906354588456452,\n",
       "  0.00048206071369349957,\n",
       "  0.00047997874207794666,\n",
       "  0.0004666688328143209,\n",
       "  0.00044811784755438566,\n",
       "  0.00044418632751330733,\n",
       "  0.0004300225991755724,\n",
       "  0.0004173559136688709,\n",
       "  0.00041556041105650365,\n",
       "  0.00040200119838118553,\n",
       "  0.000396442279452458,\n",
       "  0.0003864899626933038,\n",
       "  0.0003777027886826545,\n",
       "  0.00037067197263240814,\n",
       "  0.0003643175004981458,\n",
       "  0.0003607851976994425,\n",
       "  0.000353505922248587,\n",
       "  0.0003408905758988112,\n",
       "  0.0003334373759571463,\n",
       "  0.0003375827509444207,\n",
       "  0.0003263783873990178,\n",
       "  0.0003185415989719331,\n",
       "  0.0003178085316903889,\n",
       "  0.0003076666034758091,\n",
       "  0.0003055124543607235,\n",
       "  0.00029758652090094984,\n",
       "  0.0002932515344582498,\n",
       "  0.00029009676654823124,\n",
       "  0.0002905051223933697,\n",
       "  0.00027962346212007105,\n",
       "  0.00027664616936817765,\n",
       "  0.0002676107978913933,\n",
       "  0.00026717723812907934,\n",
       "  0.0002640202874317765,\n",
       "  0.00026012578746303916,\n",
       "  0.0002543306618463248,\n",
       "  0.00025358880520798266,\n",
       "  0.00025033068959601223,\n",
       "  0.00024564069462940097,\n",
       "  0.0002421200042590499,\n",
       "  0.0002410800225334242,\n",
       "  0.0002349406131543219,\n",
       "  0.00023077371588442475],\n",
       " 'accuracy': [0.9999814629554749,\n",
       "  1.0,\n",
       "  0.9999814629554749,\n",
       "  1.0,\n",
       "  0.9999814629554749,\n",
       "  1.0,\n",
       "  1.0,\n",
       "  0.9999814629554749,\n",
       "  1.0,\n",
       "  1.0,\n",
       "  1.0,\n",
       "  1.0,\n",
       "  0.9999814629554749,\n",
       "  1.0,\n",
       "  1.0,\n",
       "  1.0,\n",
       "  1.0,\n",
       "  1.0,\n",
       "  1.0,\n",
       "  1.0,\n",
       "  1.0,\n",
       "  1.0,\n",
       "  1.0,\n",
       "  1.0,\n",
       "  1.0,\n",
       "  1.0,\n",
       "  1.0,\n",
       "  1.0,\n",
       "  1.0,\n",
       "  1.0,\n",
       "  1.0,\n",
       "  1.0,\n",
       "  1.0,\n",
       "  1.0,\n",
       "  1.0,\n",
       "  1.0,\n",
       "  1.0,\n",
       "  1.0,\n",
       "  1.0,\n",
       "  1.0,\n",
       "  1.0,\n",
       "  1.0,\n",
       "  1.0,\n",
       "  1.0,\n",
       "  1.0,\n",
       "  1.0,\n",
       "  1.0,\n",
       "  1.0,\n",
       "  1.0,\n",
       "  1.0,\n",
       "  1.0,\n",
       "  1.0,\n",
       "  1.0,\n",
       "  1.0,\n",
       "  1.0,\n",
       "  1.0,\n",
       "  1.0,\n",
       "  1.0,\n",
       "  1.0,\n",
       "  1.0],\n",
       " 'val_loss': [0.07036891579627991,\n",
       "  0.07070112973451614,\n",
       "  0.0703640878200531,\n",
       "  0.07226883620023727,\n",
       "  0.0719352588057518,\n",
       "  0.07018375396728516,\n",
       "  0.07267509400844574,\n",
       "  0.07240719348192215,\n",
       "  0.07168371230363846,\n",
       "  0.07287543267011642,\n",
       "  0.07262905687093735,\n",
       "  0.07401067763566971,\n",
       "  0.07179184257984161,\n",
       "  0.07288658618927002,\n",
       "  0.07351104170084,\n",
       "  0.07356102764606476,\n",
       "  0.07380980253219604,\n",
       "  0.07385506480932236,\n",
       "  0.07374558597803116,\n",
       "  0.07406789809465408,\n",
       "  0.0744599848985672,\n",
       "  0.07520882785320282,\n",
       "  0.07546677440404892,\n",
       "  0.0748480036854744,\n",
       "  0.07603808492422104,\n",
       "  0.0757344663143158,\n",
       "  0.07472927123308182,\n",
       "  0.07572440803050995,\n",
       "  0.07554345577955246,\n",
       "  0.07696862518787384,\n",
       "  0.07576720416545868,\n",
       "  0.07620878517627716,\n",
       "  0.07660289853811264,\n",
       "  0.07637251168489456,\n",
       "  0.07722999155521393,\n",
       "  0.07787584513425827,\n",
       "  0.07848968356847763,\n",
       "  0.0778651237487793,\n",
       "  0.07818345725536346,\n",
       "  0.07829274982213974,\n",
       "  0.07766404002904892,\n",
       "  0.0779348760843277,\n",
       "  0.07964720577001572,\n",
       "  0.07883232831954956,\n",
       "  0.07799623906612396,\n",
       "  0.07916004210710526,\n",
       "  0.07815352082252502,\n",
       "  0.07871705293655396,\n",
       "  0.07922840118408203,\n",
       "  0.08039269596338272,\n",
       "  0.07861635088920593,\n",
       "  0.0780385434627533,\n",
       "  0.07920772582292557,\n",
       "  0.07948233187198639,\n",
       "  0.07943634688854218,\n",
       "  0.07920550554990768,\n",
       "  0.08026819676160812,\n",
       "  0.07968256622552872,\n",
       "  0.08049173653125763,\n",
       "  0.08024831861257553],\n",
       " 'val_accuracy': [0.9851666688919067,\n",
       "  0.9858333468437195,\n",
       "  0.9854999780654907,\n",
       "  0.9860000014305115,\n",
       "  0.9856666922569275,\n",
       "  0.984666645526886,\n",
       "  0.9851666688919067,\n",
       "  0.9853333234786987,\n",
       "  0.9850000143051147,\n",
       "  0.9858333468437195,\n",
       "  0.9853333234786987,\n",
       "  0.9860000014305115,\n",
       "  0.9851666688919067,\n",
       "  0.9858333468437195,\n",
       "  0.9856666922569275,\n",
       "  0.9851666688919067,\n",
       "  0.9865000247955322,\n",
       "  0.9854999780654907,\n",
       "  0.9848333597183228,\n",
       "  0.9860000014305115,\n",
       "  0.9858333468437195,\n",
       "  0.9854999780654907,\n",
       "  0.9851666688919067,\n",
       "  0.9850000143051147,\n",
       "  0.9850000143051147,\n",
       "  0.9854999780654907,\n",
       "  0.9850000143051147,\n",
       "  0.9858333468437195,\n",
       "  0.9853333234786987,\n",
       "  0.9856666922569275,\n",
       "  0.9853333234786987,\n",
       "  0.9854999780654907,\n",
       "  0.9850000143051147,\n",
       "  0.9856666922569275,\n",
       "  0.9854999780654907,\n",
       "  0.9856666922569275,\n",
       "  0.9860000014305115,\n",
       "  0.9853333234786987,\n",
       "  0.9854999780654907,\n",
       "  0.9853333234786987,\n",
       "  0.9856666922569275,\n",
       "  0.9853333234786987,\n",
       "  0.9853333234786987,\n",
       "  0.9854999780654907,\n",
       "  0.9854999780654907,\n",
       "  0.9856666922569275,\n",
       "  0.9858333468437195,\n",
       "  0.9854999780654907,\n",
       "  0.9851666688919067,\n",
       "  0.9856666922569275,\n",
       "  0.9854999780654907,\n",
       "  0.9853333234786987,\n",
       "  0.9854999780654907,\n",
       "  0.9861666560173035,\n",
       "  0.9853333234786987,\n",
       "  0.9858333468437195,\n",
       "  0.9853333234786987,\n",
       "  0.9853333234786987,\n",
       "  0.9854999780654907,\n",
       "  0.9858333468437195]}"
      ]
     },
     "execution_count": 31,
     "metadata": {},
     "output_type": "execute_result"
    }
   ],
   "source": [
    "model_b_history.history"
   ]
  },
  {
   "cell_type": "code",
   "execution_count": 32,
   "id": "0c688806",
   "metadata": {},
   "outputs": [
    {
     "data": {
      "image/png": "[encoded data removed]",
      "text/plain": [
       "<Figure size 576x360 with 1 Axes>"
      ]
     },
     "metadata": {
      "needs_background": "light"
     },
     "output_type": "display_data"
    }
   ],
   "source": [
    "import pandas as pd \n",
    "pd.DataFrame(model_b_history.history).plot(figsize=(8,5))\n",
    "plt.grid(True)\n",
    "plt.gca().set_ylim(0,1)\n",
    "plt.show() "
   ]
  },
  {
   "cell_type": "code",
   "execution_count": null,
   "id": "755d1771",
   "metadata": {},
   "outputs": [],
   "source": []
  }
 ],
 "metadata": {
  "kernelspec": {
   "display_name": "Python 3 (ipykernel)",
   "language": "python",
   "name": "python3"
  },
  "language_info": {
   "codemirror_mode": {
    "name": "ipython",
    "version": 3
   },
   "file_extension": ".py",
   "mimetype": "text/x-python",
   "name": "python",
   "nbconvert_exporter": "python",
   "pygments_lexer": "ipython3",
   "version": "3.9.12"
  }
 },
 "nbformat": 4,
 "nbformat_minor": 5
}
